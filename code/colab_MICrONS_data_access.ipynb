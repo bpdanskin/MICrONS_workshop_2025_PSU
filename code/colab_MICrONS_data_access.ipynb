{
 "cells": [
  {
   "cell_type": "markdown",
   "id": "a389fcc2-9105-42bd-8cb5-72e7b1ca270e",
   "metadata": {},
   "source": [
    "# Workshop: Access MICrONS connectomics data\n",
    "\n",
    "The function of the nervous system arises out of a combination of the properties of individual neurons and the properties of how they are connected into a larger network. The central goal of <b>connectomics</b> is to produce complete maps of the connectivity of the nervous system with synaptic resolution and analyze them to better understand the organization, development, and function of the nervous system. \n",
    "\n",
    "<b>Electron Microscopy (EM) data enables morphological reconstruction of neurons and resolution of their synaptic connectivity </b>. The MICrONS dataset is one of the largest volume EM datasets currently available, and spans all layers of mouse visual cortex. We will be using this dataset to query the connectivity between neurons in the visual cortex. \n",
    "\n",
    "Further details about the dataset are available at [MICrONS Explorer](https://www.microns-explorer.org/), and detailed data access examples at [MICrONS Tutorials](https://tutorial.microns-explorer.org/).\n",
    "\n",
    "For neuroglancer link, see: https://spelunker.cave-explorer.org/#!gs://microns-static-links/mm3/layer5_thick_tufted.json\n",
    "\n",
    "<h3> Workshop aims</h3>\n",
    "<ul>\n",
    "    <li> Understand what are the major classes of cell types in cortex</li>\n",
    "    <li> Understand the basics of how synaptic connectivity is measured in EM connectomics</li>\n",
    "    <li> Look at the relationship between the structure of networks and cell type connectivity</li>\n",
    "</ul>\n",
    "    \n",
    "\n",
    "<h4> This workshop will cover: </h4>\n",
    "<ol> \n",
    "    <li>Reconstructions of individual neurons</li>\n",
    "    <li>Connectivity of individual neurons</li>\n",
    "    <li>Connectivity between cell types</li>\n",
    "</ol>"
   ]
  },
  {
   "cell_type": "markdown",
   "id": "7edc74d5-e11e-4d8b-9e14-72f4a222fe95",
   "metadata": {},
   "source": [
    "## Connectome Annotation Versioning Engine (CAVE)\n",
    "\n",
    "This tutorial walks through the key functions needed to access the MICrONS dataset programmatically and highlights key resources within it. While this tutorial is written for the MICrONS dataset specifically, the underlying technology (CAVE) is being used for multiple connectomics dataset. So, the interface presented here can be used to query them as well. \n",
    "\n",
    "The **CAVEclient** is a python library that facilitates communication with a CAVE system. For convenience, we also use the package **skeleton_plot** which handles rendering the precomputed skeletons."
   ]
  },
  {
   "cell_type": "code",
   "execution_count": null,
   "id": "1b9207d4-b0ce-4b8b-b391-c2bd79c2ebdb",
   "metadata": {
    "cellView": "form",
    "id": "7kZiwnQpydiB"
   },
   "outputs": [],
   "source": [
    "# @title For Colab: Run this cell once to install and load packages\n",
    "%%capture\n",
    "!pip install -q caveclient\n",
    "!pip install -q skeleton_plot"
   ]
  },
  {
   "cell_type": "code",
   "execution_count": null,
   "id": "33e261f2-9baf-447b-8ecc-0b3ac70db0fe",
   "metadata": {},
   "outputs": [],
   "source": [
    "# Import packages\n",
    "from caveclient import CAVEclient\n",
    "import skeleton_plot as skelplot\n",
    "\n",
    "import pandas as pd\n",
    "import numpy as np\n",
    "from matplotlib import pyplot as plt\n",
    "import seaborn as sns"
   ]
  },
  {
   "cell_type": "markdown",
   "id": "174ece98-afb0-44fe-a445-e3ed4114969f",
   "metadata": {},
   "source": [
    "### CAVE account setup\n",
    "\n",
    "In order to manage server traffic, every user needs to create a CAVE account and download a user token to access CAVE's services programmatically. The CAVE infrastructure can be read about in more detail in the [MICrONS Nature Package](https://doi.org/10.1038/s41592-024-02426-z).\n",
    "\n",
    "**A Google account (or Google-enabled account) is required to create a CAVE account.**\n",
    "\n",
    "Go to: https://global.daf-apis.com/auth/api/v1/user/token to view a list of your existing tokens\n",
    "\n",
    "If you have never made a token before, accept the terms of service and generate a token. Then copy the hash string and paste below"
   ]
  },
  {
   "cell_type": "markdown",
   "id": "06181f34-c6a5-4bae-bc82-8c240464d06b",
   "metadata": {},
   "source": [
    "For Local environments\n",
    "```\n",
    "# Token Generation and Setup (Local)\n",
    "CAVEclient.setup_token(\"https://global.daf-apis.com\")\n",
    "\n",
    "client = CAVEclient(datastack_name='minnie65_public')\n",
    "\n",
    "```"
   ]
  },
  {
   "cell_type": "code",
   "execution_count": null,
   "id": "a1a5ef57-db1d-4bdc-b0ee-1d718072a2fc",
   "metadata": {
    "cellView": "form",
    "colab": {
     "base_uri": "https://localhost:8080/"
    },
    "id": "bNjk1Fh5zPbs",
    "outputId": "4421cdaa-bb8b-4a7c-9da9-ff547d31247e"
   },
   "outputs": [],
   "source": [
    "# @title Initialize CAVE\n",
    "# @markdown Requires your unique user token. Input user token\n",
    "\n",
    "client = CAVEclient()\n",
    "user_token = '' # @param {type: \"string\"}\n",
    "\n",
    "try:\n",
    "  client.auth.save_token(token=user_token, overwrite=True)\n",
    "  # Initialize a client for the production datastack.\n",
    "  client = CAVEclient(datastack_name='minnie65_public')\n",
    "\n",
    "  cg = client.chunkedgraph\n",
    "  print('Client initiation successful!')\n",
    "except:\n",
    "  print('Oops! Token does not work')\n",
    "  print('Go to: https://global.daf-apis.com/auth/api/v1/user/token to view a list of your existing tokens')\n",
    "  print('If you have never made a token before: \\n  1) go here: https://minnie.microns-daf.com/materialize/views/datastack/minnie65_public to accept terms of service \\n  2) then go here https://global.daf-apis.com/auth/api/v1/create_token to create a new token.')"
   ]
  },
  {
   "cell_type": "markdown",
   "id": "6d2edb32-d74e-4499-b4b4-0bb7b8854011",
   "metadata": {},
   "source": [
    "### Initialize CAVEclient with a datastack"
   ]
  },
  {
   "cell_type": "markdown",
   "id": "9682d410-43f2-4b5f-a3df-f21c396f8317",
   "metadata": {},
   "source": [
    "Datasets in CAVE are organized as datastacks. These are a combination of an EM dataset, a segmentation and a set of annotations. The datastack for MICrONS public release is `minnie65_public`. When you instantiate your client with this datastack, it loads all relevant information to access it."
   ]
  },
  {
   "cell_type": "code",
   "execution_count": null,
   "id": "d76731ec-17b6-45a5-91bb-3b8fb4792d6a",
   "metadata": {},
   "outputs": [],
   "source": [
    "datastack_name = \"minnie65_public\"\n",
    "\n",
    "client = CAVEclient(datastack_name)"
   ]
  },
  {
   "cell_type": "markdown",
   "id": "9d6c6c25-3a9e-4b3a-b857-4fde87ba39ca",
   "metadata": {},
   "source": [
    "For each datastack, CAVE stores information about key data sources and parameters. These can be accessed through:"
   ]
  },
  {
   "cell_type": "code",
   "execution_count": null,
   "id": "1b91e414-32da-4cf0-8e19-77cd7d100ae0",
   "metadata": {},
   "outputs": [],
   "source": [
    "client.info.get_datastack_info()"
   ]
  },
  {
   "cell_type": "markdown",
   "id": "aa0c9bd9-1aec-4988-97d7-a96cabc476d2",
   "metadata": {},
   "source": [
    "For instance, the synapse table is defined as `synapses_pni_2` and the cell body table as `nucleus_detection_v0`. "
   ]
  },
  {
   "cell_type": "markdown",
   "id": "ec36c26c-b0ed-4b28-afd8-f1073efea3f8",
   "metadata": {},
   "source": [
    "## Part 1: Neuron morphology: representing neurons as skeletons\n",
    "\n",
    "Often in thinking about neurons, you want to measure things along a linear dimension of a neuron.\n",
    "\n",
    "However, the segmentation and meshes are a complex 3D shape that makes this non-trivial. There are methods for reducing the shape of a segmented neuron down to a linear tree like structure usually referred to as a **skeleton**. We have precalculated skeletons for a large number of cells in the dataset, and make the skeleton generation available on our server, on demand.\n",
    "\n",
    "*Note*: The meshes you see in Neuroglancer are available to download through the python client `cloud-volume`, and can be loaded for analysis and visualization in other tools. This is useful for some types of analysis (and for making beautiful renders of neurons), but we will not cover that in this course.\n",
    "\n",
    "Now we will select one neuron based on its `root_id`, the 18-digit number you see in neuroglancer, for example from:  https://spelunker.cave-explorer.org/#!gs://microns-static-links/mm3/layer5_thick_tufted.json"
   ]
  },
  {
   "cell_type": "code",
   "execution_count": null,
   "id": "10ce756a-6234-460a-b797-19398c98ec24",
   "metadata": {},
   "outputs": [],
   "source": [
    "# select the example cell from neuroglancer\n",
    "root_id = 864691135572530981\n",
    "\n",
    "# Query the skeleton from CAVEclient\n",
    "sk_d = client.skeleton.get_skeleton(root_id, output_format=\"dict\")\n",
    "\n",
    "sk_d.keys() # print the keys of the skeleton dictionary object"
   ]
  },
  {
   "cell_type": "markdown",
   "id": "e63e1a69-b0d3-476a-af4a-5a8bbe47f2a1",
   "metadata": {},
   "source": [
    "Now we are going to define a convenience function to plot the skeleton"
   ]
  },
  {
   "cell_type": "code",
   "execution_count": null,
   "id": "744b8f43-291f-4570-9b94-c654dc9658af",
   "metadata": {},
   "outputs": [],
   "source": [
    "# Color map for the different comparments. You may adjust these to your asthetic.\n",
    "skel_color_map = {3: \"firebrick\", 4: \"salmon\", 2: \"steelblue\", 1: \"olive\"}\n",
    "\n",
    "\n",
    "def plot_skeleton(sk_d: dict, plot_soma=True, ax=None):\n",
    "    \"\"\"Plots a skeleton.\n",
    "\n",
    "    Args:\n",
    "        sk: skeleton dict as returned from CAVEclient\n",
    "\n",
    "    Returns:\n",
    "        ax: plot axes\n",
    "    \"\"\"\n",
    "    if ax is None:\n",
    "        fig, ax = plt.subplots(figsize=(7, 10), dpi=150)\n",
    "\n",
    "    skelplot.plot_tools.plot_verts(\n",
    "        np.array(sk_d[\"vertices\"]),\n",
    "        np.array(sk_d[\"edges\"]),\n",
    "        radius=np.array(sk_d[\"radius\"]) / 1000 * 1,\n",
    "        ax=ax,\n",
    "        skel_colors=sk_d[\"compartment\"],\n",
    "        title=\"\",\n",
    "        skel_alpha=1.0,\n",
    "        line_width=5,\n",
    "        x=\"x\",  # You can alter the projection direction by changing this to `y` or `z`\n",
    "        y=\"y\",  # You can alter the projection direction by changing this to `x` or `z`\n",
    "        plot_soma=plot_soma,\n",
    "        soma_node=sk_d[\"root\"],\n",
    "        color=\"darkslategray\",\n",
    "        soma_size=120,\n",
    "        invert_y=True,\n",
    "        skel_color_map=skel_color_map,\n",
    "        x_min_max=None,\n",
    "        y_min_max=None,\n",
    "        capstyle=\"round\",\n",
    "        joinstyle=\"round\",\n",
    "    )\n",
    "\n",
    "    ax.spines[\"right\"].set_visible(False)\n",
    "    ax.spines[\"left\"].set_visible(False)\n",
    "    ax.spines[\"top\"].set_visible(False)\n",
    "    ax.spines[\"bottom\"].set_visible(False)\n",
    "    ax.axis(\"off\")\n",
    "\n",
    "    return ax"
   ]
  },
  {
   "cell_type": "code",
   "execution_count": null,
   "id": "aad4783b-ad5e-491e-ad00-27013d0cb708",
   "metadata": {},
   "outputs": [],
   "source": [
    "# Plot skeleton in 2D\n",
    "ax = plot_skeleton(sk_d)\n",
    "plt.show()"
   ]
  },
  {
   "cell_type": "markdown",
   "id": "a4c081f7-a2d7-4b65-9dc4-72e57feec2c0",
   "metadata": {},
   "source": [
    "### Morphological compartment names \n",
    "\n",
    "The compartment types defined at each vertex adhere to standardized conventions for neuronal morphologies saved as swc files (for more information, see here: www.neuromorpho.org). \n",
    "    \n",
    "These conventions are as follows:\n",
    "<ul> \n",
    "    <li> 0 - undefined </li>\n",
    "    <li> 1 - soma (default color 'olive') </li>\n",
    "    <li> 2 - axon (default color 'steelblue') </li>\n",
    "    <li> 3 - (basal) dendrite (default color 'firebrick' red) </li>\n",
    "    <li> 4 - apical dendrite </li>\n",
    "    <li> 5+ - custom </li>\n",
    "</ul>\n",
    "\n",
    "In most of these neurons, distinctions were not made between basal or apical dendrites - therefore dendrites should almost exclusively map to compartment type \"3\".\n",
    "\n",
    "<b>Discussion:</b> What information do you lose going from 3D neuron meshes (neuroglancer) to 2D skeleton projections? What becomes more clear?"
   ]
  },
  {
   "cell_type": "markdown",
   "id": "cd438349-4301-4a13-9aa6-4ecb28614a38",
   "metadata": {},
   "source": [
    "## Part 2: annotation tables and generally useful information"
   ]
  },
  {
   "cell_type": "markdown",
   "id": "77b30374-07f7-4d91-b36b-e71e0a82168c",
   "metadata": {},
   "source": [
    "A datastack has a large number of tables that can be intimidating to traverse at first. CAVE provides several ways to find the tables you may want use.  All database functions are under the `client.materialize` property. To see what tables are available, use the `get_tables function`:"
   ]
  },
  {
   "cell_type": "code",
   "execution_count": null,
   "id": "c6a0d7c1-0ce1-4f4a-a171-f770c73209c2",
   "metadata": {},
   "outputs": [],
   "source": [
    "client.materialize.get_tables()"
   ]
  },
  {
   "cell_type": "markdown",
   "id": "24800b8f-c9d6-4bde-b4e7-32c671a85496",
   "metadata": {},
   "source": [
    "### Query 1: Querying cells and their types"
   ]
  },
  {
   "cell_type": "markdown",
   "id": "e5cd84f7-73e7-478a-85ce-25305fdb42ab",
   "metadata": {},
   "source": [
    "The basic querying logic of CAVE is `client.materialize.query_table`. This accepts at least a table as parameter. Let's query the table of all automatically segmented nuclei:"
   ]
  },
  {
   "cell_type": "code",
   "execution_count": null,
   "id": "aa5d6f56-9aa4-4a9a-aeb5-b30b39425ec1",
   "metadata": {
    "scrolled": true
   },
   "outputs": [],
   "source": [
    "nucleus_table_name = client.info.get_datastack_info()[\"soma_table\"]\n",
    "nucleus_df = client.materialize.query_table(nucleus_table_name)\n",
    "nucleus_df.head(5)"
   ]
  },
  {
   "cell_type": "markdown",
   "id": "278acd79-ff28-4fa2-8039-5ebedb219379",
   "metadata": {},
   "source": [
    "Every annotation table has at least one position column (here: `pt_position`) which serves as anchor to the segmentation. These positions are automatically associated to the segmentation using `pt_root_id`s which can be thought of segment or cell IDs. Beyond positions and their associated IDs, every table stores metadata. For instance, the nucleus table contains the `volume` of each cell body.\n",
    "\n",
    "Every table has a description and metadata attached to it that describes how the data was generated, limitations of it, and papers to cite when using it:"
   ]
  },
  {
   "cell_type": "code",
   "execution_count": null,
   "id": "75bf23d0-0efa-44eb-abc4-d1fb66187fda",
   "metadata": {},
   "outputs": [],
   "source": [
    "client.materialize.get_table_metadata(nucleus_table_name)"
   ]
  },
  {
   "cell_type": "markdown",
   "id": "f98e464a-5338-4776-a5f7-fea4ccc88184",
   "metadata": {},
   "source": [
    "#### Location vs depth\n",
    "\n",
    "As a first analysis, we will plot the depth location vs the size of each cell nucleus. `query_table` has additional parameters to modify the results and standardize returns that make such an analysis easier. \n",
    "* Using `desired_resolution` the resolution of all position columns can be defined in nanometers.\n",
    "* Using `split_positions`, position columns are separate\n",
    "* Using `select_columns` returns only the columns you know you are interested in. Try uncommenting this line to make the table more readable"
   ]
  },
  {
   "cell_type": "code",
   "execution_count": null,
   "id": "de2374e8-9159-4980-8346-396183dd3aaa",
   "metadata": {},
   "outputs": [],
   "source": [
    "nucleus_df = client.materialize.query_table(nucleus_table_name,\n",
    "                                            desired_resolution=[1000, 1000, 1000], # returned in um\n",
    "                                            split_positions=True,\n",
    "                                            # select_columns=['id','pt_root_id','volume','pt_position']\n",
    "                                           )\n",
    "nucleus_df.head(5)"
   ]
  },
  {
   "cell_type": "markdown",
   "id": "dd678596-2c80-4079-ba89-6dd9a665a587",
   "metadata": {},
   "source": [
    "The data is organized such that the `y` axis is roughly aligned with depth (there is a 5 degree tilt that can be adjusted with the [standard_transform](https://github.com/CAVEconnectome/standard_transform) package; we will ignore that here for simplicity). "
   ]
  },
  {
   "cell_type": "code",
   "execution_count": null,
   "id": "d90e81e7-be6a-44d5-9d5b-62e8fa709ab7",
   "metadata": {},
   "outputs": [],
   "source": [
    "fig, ax = plt.subplots(figsize=(6, 6), dpi=150)\n",
    "ax.tick_params(labelsize=14)\n",
    "sns.scatterplot(data=nucleus_df, x=\"volume\", y=\"pt_position_y\", size=1, edgecolor=None, alpha=.01, color=\"k\", ax=ax, legend=False)\n",
    "ax.invert_yaxis()\n",
    "ax.set_xlabel(\"Volume ($\\mu m^3$)\", fontsize=16)\n",
    "ax.set_ylabel(\"Depth ($\\mu m$)\", fontsize=16)\n",
    "ax.set_xlim(0, 500)\n",
    "plt.show()"
   ]
  },
  {
   "cell_type": "markdown",
   "id": "bc7f9466-d86b-4284-ad24-342ab3ced316",
   "metadata": {},
   "source": [
    "#### Cell type information "
   ]
  },
  {
   "cell_type": "markdown",
   "id": "8c917a40-07a0-4e63-a34c-1d7e796fc6f6",
   "metadata": {},
   "source": [
    "Identifying the putative ‘cell type’ from the EM morphology is a process that involves both manual and automatic classifications. Subsets of the dataset have been manually classified by anatomists at the Allen Institute, and these ground truth labels used to train and refine different automated ‘feature classifiers’ over time.\n",
    "\n",
    "The diversity of manual and automated cell type classifications available in the dataset reflect the fact that definitions of ‘cell types’ in the dataset is an active area of research and must be contextualized against the purpose and resolution of the cell-typing being performed.\n",
    "\n",
    "__Manual Cell Types (V1 Column)__\n",
    "\n",
    "A subset of nucleus detections in a 100 um column (n=2204) in VISp were manually classified by anatomists at the Allen Institute into categories of cell subclasses, first distinguishing cells into classes of non-neuronal, excitatory and inhibitory. Excitatory cells were separated into laminar sub-classes (L23, L4), 3 sub-types of layer 5 cells (ET, IT, NP) and 2 classes of layer 6 cells (IT, CT). Inhibitory cells were classified into Bipolar (BPC), Basket (BC), Martinotti (MC), or Unsure (Unsure). Those neuronal calls are available from the CAVEclient under the table name `allen_v1_column_types_slanted_ref` which references the nucleus id of the cell.\n",
    "\n",
    "\n",
    "Non-neuronal manual cells type calls enumerate astrocytes, microglia, pericytes, oligodendrocytes (oligo), and oligodendrocyte precursor cells (OPC), and area available in the table `aibs_column_nonneuronal_ref`."
   ]
  },
  {
   "cell_type": "code",
   "execution_count": null,
   "id": "1dd194ef-f754-461a-b7a2-6147cd5b5643",
   "metadata": {},
   "outputs": [],
   "source": [
    "manual_ct_df = client.materialize.query_table(\"allen_v1_column_types_slanted_ref\", \n",
    "                                              desired_resolution=[1000, 1000, 1000], \n",
    "                                              split_positions=True,\n",
    "                                              merge_reference=False)\n",
    "\n",
    "print(len(manual_ct_df))\n",
    "manual_ct_df.head(5)"
   ]
  },
  {
   "cell_type": "markdown",
   "id": "97b7b70e-0724-4923-a25c-e89a81393664",
   "metadata": {},
   "source": [
    "__Automated Cell Type classification (Soma-nucleus model)__\n",
    "\n",
    "Models were trained based upon the manual Column Neuron labels, as described in [Elabbady et al. Nature 2025](https://www.nature.com/articles/s41586-024-07765-7). Each nucleus was analyzed for a variety of features, and a model trained on and independent dataset to distinguish neurons from non-neuronal detections. Non-neuron detections include both glial cells and false positive detections. The nucleus segmentation detected 171,818 connected components of nucleus objects, this model detected 82K neurons. Evaluation of this model on 1,316 cells in the volume shows the model has a recall of 99.6% for neurons, and a precision of 96.9%. All nucleus detections and the results of this model can be queried and linked to the cellular segmentation using the CAVEclient with the table name nucleus_neuron_svm.\n",
    "\n",
    "Combining those features with the nucleus features we trained a hierachical model on the manual labels to predict cell-classes and sub-classes across a large number of neurons. This is available as CAVE table `aibs_metamodel_celltypes_v661`."
   ]
  },
  {
   "cell_type": "code",
   "execution_count": null,
   "id": "cd5d0b20-93b6-484b-ba2d-109237a912d0",
   "metadata": {},
   "outputs": [],
   "source": [
    "ct_df = client.materialize.query_table(\"aibs_metamodel_celltypes_v661\", \n",
    "                                       desired_resolution=[1000, 1000, 1000], \n",
    "                                       split_positions=True,\n",
    "                                       merge_reference=False,\n",
    "                                      )\n",
    "print(len(ct_df))\n",
    "ct_df.head(5)"
   ]
  },
  {
   "cell_type": "markdown",
   "id": "bc34ba2a-9cd9-442a-9b48-4396f16ed849",
   "metadata": {},
   "source": [
    "Reference annotations contain `target_id` to merge them onto the table they target (here: the nucleus table). But do not worry, CAVE automatically merges them onto their target table by default (`merge_reference=True`):"
   ]
  },
  {
   "cell_type": "code",
   "execution_count": null,
   "id": "8dc76bf0-63d6-4002-923c-89ac3978771a",
   "metadata": {},
   "outputs": [],
   "source": [
    "ct_df = client.materialize.query_table(\"aibs_metamodel_celltypes_v661\", \n",
    "                                       desired_resolution=[1000, 1000, 1000], \n",
    "                                       split_positions=True,\n",
    "                                       merge_reference=True,\n",
    "                                       # select_columns=['target_id','pt_root_id','volume','pt_position','cell_type','classification_system']\n",
    "                                      )\n",
    "\n",
    "# remove segments with multiple cell bodies\n",
    "ct_df = ct_df.drop_duplicates(\"pt_root_id\", keep=False)\n",
    "ct_df.head(5)"
   ]
  },
  {
   "cell_type": "markdown",
   "id": "5e8e3384-3d7c-4ee9-89a9-173c418b890c",
   "metadata": {},
   "source": [
    "The reference table added two additional data columns: `classification_system` and `cell_type`. The `classification_system` divides the cells into excitatitory and inhibitory neurons as well as non-neuronal cells. `cell_type` provides lower level cell annotations."
   ]
  },
  {
   "cell_type": "code",
   "execution_count": null,
   "id": "566d41bb-2488-4a27-835d-6656ed1efbbc",
   "metadata": {},
   "outputs": [],
   "source": [
    "ct_df[\"classification_system\"].value_counts()"
   ]
  },
  {
   "cell_type": "code",
   "execution_count": null,
   "id": "360e978a-f6a8-4d9c-9da3-1e77a0441bdd",
   "metadata": {},
   "outputs": [],
   "source": [
    "ct_df[\"cell_type\"].value_counts()"
   ]
  },
  {
   "cell_type": "markdown",
   "id": "735e22ff-64aa-4b13-9e45-d873da68cca0",
   "metadata": {},
   "source": [
    "#### Location vs depth + Cell type\n"
   ]
  },
  {
   "cell_type": "markdown",
   "id": "883b674f-9f25-4404-9379-bf17e6c0351d",
   "metadata": {},
   "source": [
    "Because the cell type table contains the information about the nuclei, we can use it to plot the locations of all cell bodies as well and label them by type."
   ]
  },
  {
   "cell_type": "code",
   "execution_count": null,
   "id": "5dac8f0a-f964-4536-9eff-7b02d0c392dd",
   "metadata": {},
   "outputs": [],
   "source": [
    "fig, ax = plt.subplots(figsize=(6, 6), dpi=150)\n",
    "ax.tick_params(labelsize=14)\n",
    "sns.scatterplot(data=ct_df, x=\"volume\", y=\"pt_position_y\", s=20, edgecolor=None, alpha=.1, color=\"k\", ax=ax, \n",
    "                legend=True, hue=\"classification_system\")\n",
    "ax.invert_yaxis()\n",
    "ax.set_xlabel(\"Volume ($\\mu m^3$)\", fontsize=16)\n",
    "ax.set_ylabel(\"Depth ($\\mu m$)\", fontsize=16)\n",
    "ax.set_xlim(0, 500)\n",
    "plt.show()"
   ]
  },
  {
   "cell_type": "markdown",
   "id": "776947b3-7a8b-4f04-9c08-894bb66a1d42",
   "metadata": {},
   "source": [
    "Soma volume is one of the distinguishing features used to classify cells into their morphological subtypes, and as expected this shows up in the plot of soma size by depth."
   ]
  },
  {
   "cell_type": "code",
   "execution_count": null,
   "id": "21076c03-fb7a-45a0-a59c-034051a1c36c",
   "metadata": {},
   "outputs": [],
   "source": [
    "fig, ax = plt.subplots(figsize=(6, 6), dpi=150)\n",
    "ax.tick_params(labelsize=14)\n",
    "sns.scatterplot(data=ct_df, x=\"volume\", y=\"pt_position_y\", s=20, edgecolor=None, alpha=.1, color=\"k\", ax=ax, \n",
    "                hue_order = ct_df.sort_values('cell_type').cell_type.unique(),\n",
    "                legend=True, hue=\"cell_type\")\n",
    "ax.invert_yaxis()\n",
    "ax.set_xlabel(\"Volume ($\\mu m^3$)\", fontsize=16)\n",
    "ax.set_ylabel(\"Depth ($\\mu m$)\", fontsize=16)\n",
    "ax.set_xlim(0, 500)\n",
    "plt.show()"
   ]
  },
  {
   "cell_type": "markdown",
   "id": "d0f895d1-7d4b-4308-addd-98137208e4f4",
   "metadata": {},
   "source": [
    "### Query 2: synapses and connectivity\n",
    "\n",
    "While synapses are stored as any other table in the database, in this case `synapses_pni_2`, this table is much larger than any other table at more than 337 million rows:"
   ]
  },
  {
   "cell_type": "code",
   "execution_count": null,
   "id": "81c7c51b-5664-47f3-a8f2-fe51739ce17e",
   "metadata": {},
   "outputs": [],
   "source": [
    "client.materialize.get_annotation_count('synapses_pni_2')"
   ]
  },
  {
   "cell_type": "markdown",
   "id": "9a75dcf8-0975-45ff-a35a-b9918d207b3b",
   "metadata": {},
   "source": [
    "While we can query the synapse table directly, this is generally not recommended. It is too large to query all at once. CAVE limits to queries to 500,000 rows at once and will display a warning when that happens. Here, we demonstrate this with the limit set to 10:"
   ]
  },
  {
   "cell_type": "code",
   "execution_count": null,
   "id": "a0a657e8-709e-410c-8c2d-a64f6fce987c",
   "metadata": {},
   "outputs": [],
   "source": [
    "synapse_table_name = client.info.get_datastack_info()[\"synapse_table\"]\n",
    "syn_df = client.materialize.query_table(synapse_table_name, limit=10, desired_resolution=[1, 1, 1], split_positions=True)\n",
    "syn_df"
   ]
  },
  {
   "cell_type": "markdown",
   "id": "5846f7b1-3bd0-4d4c-bb85-818b25f20a21",
   "metadata": {},
   "source": [
    "Instead, you have several options for querying cells of interest:\n",
    "\n",
    "* Specifying the `pre_ids`\n",
    "* Specifying the `post_ids`\n",
    "* Searching within a `bounding_box`\n",
    "* Using a combination of the above to iterate through large numbers of neurons\n"
   ]
  },
  {
   "cell_type": "markdown",
   "id": "8e70984b-9ea2-45c4-bd32-43005da97a1f",
   "metadata": {},
   "source": [
    "#### Query synapses given `pt_root_id` of interest"
   ]
  },
  {
   "cell_type": "markdown",
   "id": "3080f349-36ae-4ac3-bc19-68d660e8ba43",
   "metadata": {},
   "source": [
    "The `synapse_query` function allows you to query the synapse table in a more convenient way than most other tables.\n",
    "In particular, the `pre_ids` and `post_ids` let you specify which root id (or collection of root ids) you want to query, with pre_ids indicating the collection of **presynaptic neurons** and post_ids the collection of **postsynaptic neurons**.\n",
    "\n",
    "Using both `pre_ids` and `post_ids` in one call is effectively a logical AND, returning only those synapses from neurons in the list of `pre_ids` that target neurons in the list of `post_ids`.\n",
    "\n",
    "Let's look at our example cell from before:"
   ]
  },
  {
   "cell_type": "code",
   "execution_count": null,
   "id": "b946acd9-abaf-447f-8727-1a70f2a651ea",
   "metadata": {
    "tags": [
     "remove-stderr"
    ]
   },
   "outputs": [],
   "source": [
    "# Pick example cell\n",
    "root_id = 864691135572530981\n",
    "\n",
    "# Query synapse table with synapse_query()\n",
    "input_syn_df = client.materialize.synapse_query(post_ids=root_id)\n",
    "\n",
    "print(f\"Total number of input synapses for {root_id}: {len(input_syn_df)}\")\n",
    "input_syn_df.head()"
   ]
  },
  {
   "cell_type": "markdown",
   "id": "a72ba314-2c69-4a37-bea2-e101a9f0c538",
   "metadata": {},
   "source": [
    "Getting the outputs of the cell is similar, except we use the argument `pre_ids`"
   ]
  },
  {
   "cell_type": "code",
   "execution_count": null,
   "id": "269c44c1-d05e-4bb4-8662-45ce230c99e3",
   "metadata": {
    "tags": [
     "remove-stderr"
    ]
   },
   "outputs": [],
   "source": [
    "# Query synapse table with synapse_query()\n",
    "output_syn_df = client.materialize.synapse_query(pre_ids=root_id)\n",
    "\n",
    "print(f\"Total number of output synapses for {root_id}: {len(output_syn_df)}\")\n",
    "output_syn_df.head()"
   ]
  },
  {
   "cell_type": "markdown",
   "id": "ee2bb3ff-37a6-444d-9a72-6acdafcb30fe",
   "metadata": {},
   "source": [
    "#### Overlay synapses on skeleton\n",
    "\n",
    "Because these measures come from the same physical space, we can overlay the **skeleton** and the **synapses** of a neuron. Knowing where the synapses are along the **branches of a dendrite or axon** is a common features used for analysis.\n",
    "\n",
    "More about operating on the arbor of a neuron skeleton is available from the [Skeleton and Mesh Tutorials](https://tutorial.microns-explorer.org/quickstart_notebooks/07-cave-download-skeleton.html)"
   ]
  },
  {
   "cell_type": "code",
   "execution_count": null,
   "id": "a98ed890-ee51-4c72-adc7-a0dc52a486e5",
   "metadata": {},
   "outputs": [],
   "source": [
    "# select the example cell from neuroglancer\n",
    "root_id = 864691135572530981\n",
    "\n",
    "# Query the skeleton from CAVEclient\n",
    "sk_d = client.skeleton.get_skeleton(root_id, output_format=\"dict\")\n",
    "\n",
    "# Query synapse table with synapse_query()\n",
    "output_syn_df = client.materialize.synapse_query(pre_ids=root_id,\n",
    "                                                split_positions=True,\n",
    "                                                desired_resolution=[1,1,1] # same resolution as the skeleton\n",
    "                                                )"
   ]
  },
  {
   "cell_type": "code",
   "execution_count": null,
   "id": "243b91ae-cca6-42e5-8cb7-aa661f1b9ac5",
   "metadata": {},
   "outputs": [],
   "source": [
    "# Plot your skeleton and overlay synapses\n",
    "ax = plot_skeleton(sk_d)\n",
    "\n",
    "sns.scatterplot(\n",
    "    data=output_syn_df,\n",
    "    x=\"ctr_pt_position_x\",\n",
    "    y=\"ctr_pt_position_y\",\n",
    "    s=5,\n",
    "    color=\"b\",\n",
    "    ax=ax,\n",
    "    edgecolor=None,\n",
    "    zorder=100,\n",
    ")\n",
    "\n",
    "plt.show()"
   ]
  },
  {
   "cell_type": "markdown",
   "id": "86adb40a-fcc7-4675-a202-c59787f0c63c",
   "metadata": {},
   "source": [
    "Note that synapse queries always return the list of every synapse between the neurons in the query, even if there are multiple synapses between the same pair of neurons.\n",
    "\n",
    "A common pattern to generate a list of connections between unique pairs of neurons is to group by the root ids of the presynaptic and postsynaptic neurons and then count the number of synapses between them.\n",
    "For example, use `pandas.groupby()` to get the number of synapses from this neuron onto every other neuron:"
   ]
  },
  {
   "cell_type": "code",
   "execution_count": null,
   "id": "8b7c9aa1-a7ed-4e06-babf-8986b3cce81b",
   "metadata": {},
   "outputs": [],
   "source": [
    "# get count of synapses between presynaptic and postsynaptic partners\n",
    "output_connectivity = (output_syn_df.groupby(['pre_pt_root_id', 'post_pt_root_id'])\n",
    " .count()[['id']]\n",
    " .rename(columns={'id': 'syn_count'})\n",
    " .sort_values( by='syn_count', ascending=False,)\n",
    ")\n",
    "\n",
    "output_connectivity\n",
    "# Note that the 'id' part here is just a way to quickly extract one column. This could be any of the remaining column names, \n",
    "# but `id` is often convenient because it is common to all tables."
   ]
  },
  {
   "cell_type": "markdown",
   "id": "71269bf1-6627-484e-a214-af099ea1a898",
   "metadata": {},
   "source": [
    "#### Plot output target distribution\n",
    "\n",
    "Taking this connectivity information from one neuron, **quantify the synapses it makes onto all cell types**. This is the same process that happens to make the Dash App plots.\n",
    "\n",
    "Note: here we work with only *unique* connections, even where there is more than one synapse between them"
   ]
  },
  {
   "cell_type": "code",
   "execution_count": null,
   "id": "42c4d07d-d0ef-423e-ae87-9ac62af28f8d",
   "metadata": {},
   "outputs": [],
   "source": [
    "# First, find the unique postsynaptic partners\n",
    "unique_postsyn_partners = output_syn_df.post_pt_root_id.unique()\n",
    "\n",
    "# Select the cell types of the postsynaptic partners\n",
    "ct_postsyn_partners = ct_df.loc[ct_df.pt_root_id.isin(unique_postsyn_partners)]\n",
    "\n",
    "# Make a bar plot of the connections to the postsynaptic cell types\n",
    "ct_summary = (pd.DataFrame(ct_postsyn_partners.value_counts('cell_type'))\n",
    "              .sort_values('cell_type')\n",
    "              .reset_index()\n",
    "             )\n",
    "\n",
    "f, ax = plt.subplots(1,1, figsize=(6, 6),dpi=150)\n",
    "sns.barplot(ct_summary, x='cell_type', y='count', hue='cell_type', palette='tab20', ax=ax)\n",
    "    \n",
    "# Add labels to the bars\n",
    "for i, r in ct_summary.iterrows():\n",
    "    ax.text(i, r['count']-.1, round(r['count'], 2), \n",
    "            color='white', ha='center', va='top')\n",
    "\n",
    "plt.ylabel('Count of unique connections', fontsize = 12, labelpad=12) \n",
    "plt.xlabel('Cell Type, Postsynaptic (all cells)', fontsize = 12, labelpad=12) \n",
    "plt.xticks(rotation=-30, ha='left')\n",
    "\n",
    "sns.despine()\n",
    "\n",
    "plt.show()"
   ]
  },
  {
   "cell_type": "markdown",
   "id": "589f5840-8b40-4e2a-890f-3e8dd2060392",
   "metadata": {},
   "source": [
    "### Query 3: Proofread connectivity\n",
    "\n",
    "Proofreading is necessary to obtain accurate reconstructions of a cell. In the MICrONS dataset, the general rule is that dendrites onto cells with a _single_ cell body are sufficiently proofread to trust synaptic connections onto a cell. Axons on the other hand require so much proofreading that only ~1800 cells have axons such that their outputs should be used for analysis.\n",
    "\n",
    "For more about proofreading, versioning, and other important information, see: [Proofreading and Data Quality](https://tutorial.microns-explorer.org/proofreading.html). For today we will treat all axons that are at least 'axon_partially_extended` as equally trustworthy. This may not be the best choice depdending on the specfici analysis. Reach out to Bethanny with questions for more.\n",
    "\n",
    "This information is available in the CAVE table: `proofreading_status_and_strategy`\n"
   ]
  },
  {
   "cell_type": "code",
   "execution_count": null,
   "id": "f27c6387-df17-46a3-8fbb-ab52b4d8a36b",
   "metadata": {},
   "outputs": [],
   "source": [
    "proof_all_df = client.materialize.query_table(\"proofreading_status_and_strategy\")"
   ]
  },
  {
   "cell_type": "code",
   "execution_count": null,
   "id": "9add5684-6a0e-4bd4-880b-5c70f7671333",
   "metadata": {},
   "outputs": [],
   "source": [
    "proof_all_df[\"strategy_axon\"].value_counts()"
   ]
  },
  {
   "cell_type": "markdown",
   "id": "254df444-5034-44b4-9ba1-e076bcfc2185",
   "metadata": {},
   "source": [
    "### Filtering Queries by proofreading status\n",
    "We can filter our query to only return rows that match a condition by adding a filter to our query:"
   ]
  },
  {
   "cell_type": "code",
   "execution_count": null,
   "id": "5dbfe56e-8198-4f39-add5-2c9308e761a2",
   "metadata": {},
   "outputs": [],
   "source": [
    "proof_axon_df = client.materialize.query_table(\"proofreading_status_and_strategy\", \n",
    "                                               filter_in_dict={\"strategy_axon\": [\"axon_partially_extended\", \"axon_fully_extended\", \"axon_interareal\"]}, \n",
    "                                               desired_resolution=[1, 1, 1], \n",
    "                                               split_positions=True)\n",
    "proof_axon_df.tail()"
   ]
  },
  {
   "cell_type": "markdown",
   "id": "ce7bbc7e-82cc-429c-b19b-e777d6c57ede",
   "metadata": {},
   "source": [
    "A more unified filter interface is available through a \"table manager\" interface.\n",
    "\n",
    "Rather than passing a table name to the `query_table` function, `client.materialize.tables` has a subproperty for each table in the database that can be used to filter that table.\n",
    "\n",
    "The general pattern for usage is\n",
    "\n",
    "``` python\n",
    "client.materialize.tables.{table_name}({filter options}).query({format and timestamp options})\n",
    "```\n",
    "\n",
    "where `{table_name}` is the name of the table you want to filter, `{filter options}` is a collection of arguments for filtering the query, and `{format and timestamp options}` are those parameters controlling the format and timestamp of the query.\n",
    "\n",
    "With this, we can easily query all proofread cells with proofread axons:"
   ]
  },
  {
   "cell_type": "code",
   "execution_count": null,
   "id": "88a63163-0383-4689-90a8-a848fbf0fc3a",
   "metadata": {},
   "outputs": [],
   "source": [
    "proof_axon_df = client.materialize.tables.proofreading_status_and_strategy(strategy_axon=[\"axon_partially_extended\", \"axon_fully_extended\", \"axon_interareal\"]).query(\n",
    "    select_columns=['pt_root_id','status_axon','status_dendrite','strategy_axon','strategy_dendrite'],\n",
    ")\n",
    "proof_axon_df.tail()"
   ]
  },
  {
   "cell_type": "markdown",
   "id": "f70faa7e-9e06-44e7-9b3e-150493e7618f",
   "metadata": {},
   "source": [
    "#### Collect synapses between proofread cells. \n",
    "\n",
    "We can now collect the synapses between a proofread cells to form a 'connectivity matrix', or the known connections from one cell to every other cell. \n",
    "\n",
    "In its square form, a **closed set**, this is connectivity forms an Adjacency Matrix, or a graph representation of the network connectivity. Here we look at the connectivity between proofread excitatory neurons."
   ]
  },
  {
   "cell_type": "code",
   "execution_count": null,
   "id": "00c648e1-521f-4f4d-9292-c2d308c3c35a",
   "metadata": {},
   "outputs": [],
   "source": [
    "# Collect the list of root ids that are proofread and have a cell type\n",
    "exc_ct_df = ct_df.query(\"classification_system=='excitatory_neuron'\")\n",
    "\n",
    "proofread_exc_ids = exc_ct_df.loc[exc_ct_df.pt_root_id.isin(proof_axon_df.pt_root_id.values), 'pt_root_id'].values\n",
    "len(proofread_exc_ids)"
   ]
  },
  {
   "cell_type": "code",
   "execution_count": null,
   "id": "bd0ad118-cca0-4471-9d5e-0cb94b7e739f",
   "metadata": {},
   "outputs": [],
   "source": [
    "%%time\n",
    "\n",
    "# Collect all synapses between proofread cells. This may take several minutes to run\n",
    "proof_proof_syn_df = client.materialize.synapse_query(\n",
    "    pre_ids=proofread_exc_ids,\n",
    "    post_ids=proofread_exc_ids,\n",
    ")\n",
    "print(len(proof_proof_syn_df))"
   ]
  },
  {
   "cell_type": "markdown",
   "id": "520e9688-3044-4c6c-a0f3-dd418c241140",
   "metadata": {},
   "source": [
    "This gives us the 'long' version of the synapse table, where every row is a synapse. Now we will `pivot` this table into a square form, where both rows and columns are unique cells that form connections. "
   ]
  },
  {
   "cell_type": "code",
   "execution_count": null,
   "id": "34da1a24-840b-4492-a3a1-666617af40fe",
   "metadata": {},
   "outputs": [],
   "source": [
    "# pivot the synapse table\n",
    "syn_mat = proof_proof_syn_df.pivot_table(index=\"pre_pt_root_id\", \n",
    "                                         columns=\"post_pt_root_id\",\n",
    "                                         values=\"size\", \n",
    "                                         aggfunc=lambda x: float(np.sum(x) > 0)).fillna(0)\n",
    "syn_mat = syn_mat.reindex(columns=np.array(syn_mat.index))"
   ]
  },
  {
   "cell_type": "markdown",
   "id": "4e5a2abf-ac65-43a1-a969-e8a385114595",
   "metadata": {},
   "source": [
    "This gives us a sparse matrix that is mostly zeros, which we can visualize as a connectivity heatmap"
   ]
  },
  {
   "cell_type": "code",
   "execution_count": null,
   "id": "9c4174b9-a946-4174-affd-052e961b61bf",
   "metadata": {},
   "outputs": [],
   "source": [
    "fig, ax = plt.subplots(figsize=(7, 5), dpi=150)\n",
    "sns.heatmap(syn_mat, cmap=\"gray_r\", \n",
    "            xticklabels=[], yticklabels=[], cbar=None,\n",
    "            ax=ax, \n",
    "            square=True,\n",
    "           )\n",
    "plt.show()\n"
   ]
  },
  {
   "cell_type": "markdown",
   "id": "a9ce2ceb-1bf6-4684-a403-f72a6875b266",
   "metadata": {},
   "source": [
    "#### Sort synapse matrix with cell types\n",
    "Let’s combine the synaptic connecitivity with the cell type information. Below we provide logic for sorting a connectivity matrix using a list of labels."
   ]
  },
  {
   "cell_type": "code",
   "execution_count": null,
   "id": "4e1b8313-640f-45d1-b5ab-c4b0452e4938",
   "metadata": {},
   "outputs": [],
   "source": [
    "def sort_matrix_by_types(mat: pd.DataFrame, \n",
    "                         labels: pd.DataFrame, \n",
    "                         label_type_col: str = \"cell_type\", \n",
    "                         label_id_col: str = \"pt_root_id\", \n",
    "                         post_labels: pd.DataFrame = None, \n",
    "                         post_label_type_col: str = None, \n",
    "                         post_label_id_col: str = None):\n",
    "    \"\"\"Sorts (synapse) matrix by labels.\n",
    "\n",
    "    This function assumes a square synapse matrix!\n",
    "\n",
    "    Args:\n",
    "        mat: synapse matrix as pandas DataFrame\n",
    "        labels: DataFrame with labels, e.g. the output of client.materialize.query_table('aibs_metamodel_celltypes_v661')\n",
    "        label_type_col: column name in labels for cell types\n",
    "        label_id_col: column name in labels for root ids\n",
    "        post_labels: DataFrame with labels, e.g. the output of client.materialize.query_table('aibs_metamodel_celltypes_v661')\n",
    "        post_label_type_col: column name in labels for cell types\n",
    "        post_label_id_col: column name in labels for root ids\n",
    "\n",
    "    Returns:\n",
    "        mat_sorted: sorted matrix\n",
    "        mat_labels: sorted labels; has the same length as matrix\n",
    "    \"\"\"\n",
    "    \n",
    "    if post_labels is None:\n",
    "        post_labels = labels\n",
    "    if post_label_type_col is None:\n",
    "        post_label_type_col = label_type_col\n",
    "    if post_label_id_col is None:\n",
    "        post_label_id_col = label_id_col\n",
    "        \n",
    "    mat_sorted = mat.copy()\n",
    "    \n",
    "    pre_mat_labels = np.array(labels.set_index(label_id_col).loc[mat_sorted.index][label_type_col])\n",
    "    pre_sorting = np.argsort(pre_mat_labels)\n",
    "\n",
    "    post_mat_labels = np.array(post_labels.set_index(post_label_id_col).loc[mat_sorted.T.index][post_label_type_col])\n",
    "    post_sorting = np.argsort(post_mat_labels)\n",
    "\n",
    "    mat_sorted = mat_sorted.iloc[pre_sorting].T.iloc[post_sorting].T\n",
    "\n",
    "    return mat_sorted, pre_mat_labels[pre_sorting], post_mat_labels[post_sorting]"
   ]
  },
  {
   "cell_type": "code",
   "execution_count": null,
   "id": "06c8b6d2-aeae-4583-b82c-afd957624c5b",
   "metadata": {},
   "outputs": [],
   "source": [
    "# sort the matrix by cell types to render sensibly in heatmap\n",
    "syn_mat_ct, syn_mat_cell_types, _ = sort_matrix_by_types(syn_mat, exc_ct_df, label_type_col=\"cell_type\")"
   ]
  },
  {
   "cell_type": "code",
   "execution_count": null,
   "id": "097b2187-69d3-4d9f-9fb8-bf8843597479",
   "metadata": {},
   "outputs": [],
   "source": [
    "import matplotlib\n",
    "\n",
    "# add colormap for cell type\n",
    "cts, ct_idx = np.unique(syn_mat_cell_types, return_inverse=True)\n",
    "ct_colors = plt.get_cmap(\"tab10\")(ct_idx)\n",
    "\n",
    "fig, ax = plt.subplots(figsize=(7, 5), dpi=150)\n",
    "sns.heatmap(syn_mat_ct, cmap=\"gray_r\", xticklabels=[], yticklabels=[], \n",
    "            ax=ax, square=True,\n",
    "            cbar=None)\n",
    "\n",
    "\n",
    "# Adding row and column colors for cell types\n",
    "for i, color in enumerate(ct_colors):\n",
    "    ax.add_patch(plt.Rectangle(xy=(-0.01, i), width=0.01, height=1, color=color, lw=0,\n",
    "                               transform=ax.get_yaxis_transform(), clip_on=False))\n",
    "\n",
    "for i, color in enumerate(ct_colors):\n",
    "    ax.add_patch(plt.Rectangle(xy=(i, 1), height=0.01, width=1, color=color, lw=0,\n",
    "                               transform=ax.get_xaxis_transform(), clip_on=False))\n",
    "\n",
    "# add a legend for the cell types\n",
    "legend_elements = [matplotlib.lines.Line2D([0], [0], color=plt.get_cmap(\"tab10\")(i), label=ct) for i, ct in enumerate(cts)]\n",
    "plt.legend(handles=legend_elements, loc='upper left', bbox_to_anchor=(1.3, 1), title=\"cell types\")\n",
    "plt.show()"
   ]
  },
  {
   "cell_type": "markdown",
   "id": "673e24e3-4992-4e34-8787-20ccddbc8370",
   "metadata": {},
   "source": [
    "# Advanced Neuroglancer\n",
    "\n",
    "You can actually overlay many of these properties in neuroglancer, including:\n",
    "\n",
    "* Skeletons: https://spelunker.cave-explorer.org/#!middleauth+https://global.daf-apis.com/nglstate/api/v1/6025750544121856 \n",
    "* Nucleus segmentation: https://spelunker.cave-explorer.org/#!middleauth+https://global.daf-apis.com/nglstate/api/v1/4846103861133312 \n",
    "* Cell Types: https://spelunker.cave-explorer.org/#!middleauth+https://global.daf-apis.com/nglstate/api/v1/5505896963637248\n",
    "* Proofreading Status: https://spelunker.cave-explorer.org/#!middleauth+https://global.daf-apis.com/nglstate/api/v1/5626062229733376\n",
    "* Synapses: https://spelunker.cave-explorer.org/#!middleauth+https://global.daf-apis.com/nglstate/api/v1/6395755509055488\n",
    "\n",
    "And any combination thereof. Tip: drag layers between diferent neuroglancer windows to view overlaid\n",
    "\n"
   ]
  }
 ],
 "metadata": {
  "kernelspec": {
   "display_name": "Python 3 (ipykernel)",
   "language": "python",
   "name": "python3"
  },
  "language_info": {
   "codemirror_mode": {
    "name": "ipython",
    "version": 3
   },
   "file_extension": ".py",
   "mimetype": "text/x-python",
   "name": "python",
   "nbconvert_exporter": "python",
   "pygments_lexer": "ipython3",
   "version": "3.11.11"
  }
 },
 "nbformat": 4,
 "nbformat_minor": 5
}
